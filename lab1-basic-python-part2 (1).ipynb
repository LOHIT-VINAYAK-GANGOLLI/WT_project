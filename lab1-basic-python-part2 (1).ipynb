{
 "cells": [
  {
   "cell_type": "markdown",
   "id": "166d457e",
   "metadata": {},
   "source": [
    "# Exploratory Data Analysis Lab\n",
    "## Python Basics\n",
    "### 1. Data types"
   ]
  },
  {
   "cell_type": "markdown",
   "id": "c7ccd2ae",
   "metadata": {},
   "source": [
    "#### Numbers: Integers and floats"
   ]
  },
  {
   "cell_type": "code",
   "execution_count": null,
   "id": "954c6eeb",
   "metadata": {},
   "outputs": [],
   "source": [
    "# Numbers: Integers and floats \n",
    "x = 3\n",
    "print(type(x))                         # Prints \"<class 'int'>\"\n",
    "print(x)                               # Prints \"3\"\n"
   ]
  },
  {
   "cell_type": "code",
   "execution_count": null,
   "id": "eb173767",
   "metadata": {},
   "outputs": [],
   "source": [
    "print(x + 1)                           # Addition; prints \"4\"\n",
    "print(x - 1)                           # Subtraction; prints \"2\"\n",
    "print(x * 2)                           # Multiplication; prints \"6\"\n",
    "print(x ** 2)                          # Exponentiation; prints \"9\"\n",
    "print(x/2)                             # Divison; prints \"1.5\""
   ]
  },
  {
   "cell_type": "code",
   "execution_count": null,
   "id": "e9286c4d",
   "metadata": {},
   "outputs": [],
   "source": [
    "x += 1\n",
    "print(x)                               # Prints \"4\"\n",
    "x *= 2\n",
    "print(x)                               # Prints \"8\"\n",
    "y = 2.5\n",
    "print(type(y))                         # Prints \"<class 'float'>\"\n",
    "print(y, y + 1, y * 2, y ** 2)         # Prints \"2.5 3.5 5.0 6.25\""
   ]
  },
  {
   "cell_type": "markdown",
   "id": "1b442cb7",
   "metadata": {},
   "source": [
    "#### Booleans"
   ]
  },
  {
   "cell_type": "code",
   "execution_count": null,
   "id": "1ae4f68e",
   "metadata": {},
   "outputs": [],
   "source": [
    "\n",
    "t = True\n",
    "f = False\n",
    "print(type(t))         # Prints \"<class 'bool'>\"\n",
    "print(t and f)         # Logical AND; prints \"False\"\n",
    "print(t or f)          # Logical OR; prints \"True\"\n",
    "print(not t)           # Logical NOT; prints \"False\"\n",
    "print(t != f)          # Logical XOR; prints \"True\""
   ]
  },
  {
   "cell_type": "markdown",
   "id": "38231a40",
   "metadata": {},
   "source": [
    "#### Strings"
   ]
  },
  {
   "cell_type": "code",
   "execution_count": null,
   "id": "74c615c0",
   "metadata": {},
   "outputs": [],
   "source": [
    "\n",
    "course = 'EDA'                            # String literals can use single quotes\n",
    "univ = \"KLE Tech\"                         # or double quotes; it does not matter.\n",
    "print(course)                             # Prints \"EDA\"\n",
    "print(len(course))                        # String length; prints \"3\"\n"
   ]
  },
  {
   "cell_type": "code",
   "execution_count": null,
   "id": "5e6f4cae",
   "metadata": {},
   "outputs": [],
   "source": [
    "cu = course + ' ' + univ                # String concatenation\n",
    "print(cu)                               # prints \"EDA KLE Tech\"\n",
    "cu310 = '%s %s %d' %(course, univ, 310)  # sprintf style string formatting\n",
    "print(cu310)                             # prints \"EDA KLE Tech 310\""
   ]
  },
  {
   "cell_type": "markdown",
   "id": "efece828",
   "metadata": {},
   "source": [
    "#### String methods \n",
    " - For more visit https://docs.python.org/3.10/library/stdtypes.html#string-methods"
   ]
  },
  {
   "cell_type": "code",
   "execution_count": null,
   "id": "1cd905ab",
   "metadata": {},
   "outputs": [],
   "source": [
    "\n",
    "s = \"knees\"\n",
    "print(s.capitalize())             # Capitalize a string; prints \"Knees\"\n",
    "print(s.upper())                  # Convert a string to uppercase; prints \"KNEES\"\n",
    "print(s.rjust(9))                 # Right-justify a string, padding with spaces; prints \"    knees\"\n",
    "print(s.center(9))                # Center a string, padding with spaces; prints \"  knees  \"\n",
    "print(s.replace('e', '(ell)'))    # Replace all instances of one substring with another;\n",
    "                                  # prints \"kn(ell)(ell)s\"\n",
    "print('  joint '.strip())         # Strip leading and trailing whitespace; prints \"joint\""
   ]
  },
  {
   "cell_type": "markdown",
   "id": "35292a5c",
   "metadata": {},
   "source": [
    "### Summary questions\n",
    "- What are the different datatypes python support?\n",
    "- How do you determine type of an element?\n",
    "- How do you convert a element to a given type?"
   ]
  },
  {
   "cell_type": "markdown",
   "id": "6f7afbcc",
   "metadata": {},
   "source": [
    "### Exercise\n",
    "- 10/4 ?  --  integer datatype?"
   ]
  },
  {
   "cell_type": "markdown",
   "id": "c7345cea",
   "metadata": {},
   "source": [
    "### 2. Imports and Math"
   ]
  },
  {
   "cell_type": "markdown",
   "id": "cd651ff5",
   "metadata": {},
   "source": [
    "#### 'Generic import' of math module\n"
   ]
  },
  {
   "cell_type": "code",
   "execution_count": null,
   "id": "4edd90f6",
   "metadata": {},
   "outputs": [],
   "source": [
    "import math"
   ]
  },
  {
   "cell_type": "code",
   "execution_count": null,
   "id": "b73895b1",
   "metadata": {},
   "outputs": [],
   "source": [
    "math.sqrt(25)"
   ]
  },
  {
   "cell_type": "code",
   "execution_count": null,
   "id": "26a3a338",
   "metadata": {},
   "outputs": [],
   "source": [
    "# define an alias\n",
    "import math as mt\n",
    "mt.sqrt(64)"
   ]
  },
  {
   "cell_type": "markdown",
   "id": "af83b067",
   "metadata": {},
   "source": [
    "#### import a function\n"
   ]
  },
  {
   "cell_type": "code",
   "execution_count": null,
   "id": "e85389a9",
   "metadata": {},
   "outputs": [],
   "source": [
    "from math import sqrt\n"
   ]
  },
  {
   "cell_type": "code",
   "execution_count": null,
   "id": "6c070ed0",
   "metadata": {},
   "outputs": [],
   "source": [
    "sqrt(25)    # no longer have to reference the module"
   ]
  },
  {
   "cell_type": "code",
   "execution_count": null,
   "id": "126a806d",
   "metadata": {},
   "outputs": [],
   "source": [
    "# show all functions in math module\n",
    "print(dir(math))"
   ]
  },
  {
   "cell_type": "markdown",
   "id": "bc7681d4",
   "metadata": {},
   "source": [
    "### 3. Containers\n",
    " - Built-in container types: lists, dictionaries, sets, and tuples.\n"
   ]
  },
  {
   "cell_type": "markdown",
   "id": "575555cf",
   "metadata": {},
   "source": [
    "### 3.1 Lists\n",
    " - A list is the Python equivalent of an array\n",
    " - Is resizeable and can contain elements of different types"
   ]
  },
  {
   "cell_type": "code",
   "execution_count": null,
   "id": "22a3e751",
   "metadata": {},
   "outputs": [],
   "source": [
    "xs = [3, 1, 2]    # Create a list\n",
    "print(xs)  # Prints \"[3, 1, 2] 2\"\n"
   ]
  },
  {
   "cell_type": "code",
   "execution_count": null,
   "id": "ce053a0f",
   "metadata": {},
   "outputs": [],
   "source": [
    "print(xs[2])  # Prints \"2\"; Indexing starts from 0\n",
    "             \n",
    "print(xs[-1])     # Negative indices count from the end of the list; prints \"2\"\n",
    "                  "
   ]
  },
  {
   "cell_type": "code",
   "execution_count": null,
   "id": "8c19c27e",
   "metadata": {},
   "outputs": [],
   "source": [
    "xs[2] = 'foo'     # Lists can contain elements of different types\n",
    "print(xs)         # Prints \"[3, 1, 'foo']\"\n"
   ]
  },
  {
   "cell_type": "code",
   "execution_count": null,
   "id": "fadd8945",
   "metadata": {},
   "outputs": [],
   "source": [
    "xs.append('bar')  # Add a new element to the end of the list\n",
    "print(xs)         # Prints \"[3, 1, 'foo', 'bar']\"\n"
   ]
  },
  {
   "cell_type": "code",
   "execution_count": null,
   "id": "5a38a1de",
   "metadata": {},
   "outputs": [],
   "source": [
    "x = xs.pop()      # Remove and return the last element of the list\n",
    "print(x, xs)      # Prints \"bar [3, 1, 'foo']\""
   ]
  },
  {
   "cell_type": "code",
   "execution_count": null,
   "id": "b1306ba6",
   "metadata": {},
   "outputs": [],
   "source": [
    "1 in xs           # Check if '1' is in the list using \"in\" operator"
   ]
  },
  {
   "cell_type": "code",
   "execution_count": null,
   "id": "797840fd",
   "metadata": {},
   "outputs": [],
   "source": [
    "len(xs)           # Length of the list i.e, number of elements in the list"
   ]
  },
  {
   "cell_type": "markdown",
   "id": "97c8d81e",
   "metadata": {},
   "source": [
    "#### Exercise \n",
    " - Questions"
   ]
  },
  {
   "cell_type": "markdown",
   "id": "c9a78c0c",
   "metadata": {},
   "source": [
    "#### Slicing"
   ]
  },
  {
   "cell_type": "code",
   "execution_count": null,
   "id": "628cae2a",
   "metadata": {},
   "outputs": [],
   "source": [
    "\n",
    "nums = list(range(5))     # range is a built-in function that creates a list of integers\n",
    "print(nums)               # Prints \"[0, 1, 2, 3, 4]\""
   ]
  },
  {
   "cell_type": "code",
   "execution_count": null,
   "id": "2c6e9cb7",
   "metadata": {},
   "outputs": [],
   "source": [
    "\n",
    "print(nums[2:4])          # Get a slice from index 2 to 4 (exclusive); prints \"[2, 3]\"\n"
   ]
  },
  {
   "cell_type": "code",
   "execution_count": null,
   "id": "cd70669f",
   "metadata": {},
   "outputs": [],
   "source": [
    "print(nums[2:])           # Get a slice from index 2 to the end; prints \"[2, 3, 4]\"\n"
   ]
  },
  {
   "cell_type": "code",
   "execution_count": null,
   "id": "cb30e736",
   "metadata": {},
   "outputs": [],
   "source": [
    "print(nums[:2])           # Get a slice from the start to index 2 (exclusive); prints \"[0, 1]\"\n"
   ]
  },
  {
   "cell_type": "code",
   "execution_count": null,
   "id": "1ad16a9b",
   "metadata": {},
   "outputs": [],
   "source": [
    "print(nums[:])            # Get a slice of the whole list; prints \"[0, 1, 2, 3, 4]\"\n"
   ]
  },
  {
   "cell_type": "code",
   "execution_count": null,
   "id": "7fdd9280",
   "metadata": {},
   "outputs": [],
   "source": [
    "print(nums[:-1])          # Slice indices can be negative; prints \"[0, 1, 2, 3]\"\n"
   ]
  },
  {
   "cell_type": "code",
   "execution_count": null,
   "id": "74b1582e",
   "metadata": {},
   "outputs": [],
   "source": [
    "nums[2:4] = [8, 9]        # Assign a new sublist to a slice\n",
    "print(nums)               # Prints \"[0, 1, 8, 9, 4]\""
   ]
  },
  {
   "cell_type": "markdown",
   "id": "8637a30c",
   "metadata": {},
   "source": [
    "#### Concatenating lists together"
   ]
  },
  {
   "cell_type": "code",
   "execution_count": null,
   "id": "47d3ca1d",
   "metadata": {},
   "outputs": [],
   "source": [
    "\n",
    "x = [1, 2, 3]\n",
    "x.extend([4, 5, 6])           # x is now [1,2,3,4,5,6]\n",
    "print(x)\n",
    "\n"
   ]
  },
  {
   "cell_type": "code",
   "execution_count": null,
   "id": "09ffe6ac",
   "metadata": {},
   "outputs": [],
   "source": [
    "# If you don’t want to modify x you can use list addition\n",
    "x = [1, 2, 3]\n",
    "y = x + [4, 5, 6]             # y is [1, 2, 3, 4, 5, 6]; x is unchanged\n",
    "print(y)\n",
    "\n"
   ]
  },
  {
   "cell_type": "code",
   "execution_count": null,
   "id": "29517fb4",
   "metadata": {},
   "outputs": [],
   "source": [
    "# Appending to lists one item at a time\n",
    "x = [1, 2, 3]\n",
    "x.append(0)                   # x is now [1, 2, 3, 0]\n",
    "print(x)\n"
   ]
  },
  {
   "cell_type": "code",
   "execution_count": null,
   "id": "7f6b20c5",
   "metadata": {},
   "outputs": [],
   "source": [
    "y = x[-1]                     # equals 0\n",
    "z = len(x)                    # equals 4\n",
    "print(z)"
   ]
  },
  {
   "cell_type": "markdown",
   "id": "f44ef430",
   "metadata": {},
   "source": [
    "#### Conditions"
   ]
  },
  {
   "cell_type": "code",
   "execution_count": null,
   "id": "21ac58c0",
   "metadata": {},
   "outputs": [],
   "source": [
    "\n",
    "level = 5\n",
    "if level < 0:\n",
    "  print(\"negative\")\n",
    "elif level == 0:\n",
    "  print(\"null\")\n",
    "else: # level > 0\n",
    "  print(\"positive\")"
   ]
  },
  {
   "cell_type": "markdown",
   "id": "c3130cb3",
   "metadata": {},
   "source": [
    "#### Loops"
   ]
  },
  {
   "cell_type": "code",
   "execution_count": null,
   "id": "6c635be0",
   "metadata": {},
   "outputs": [],
   "source": [
    "#while\n",
    "x = [1, 2, 3]\n",
    "i = 0\n",
    "while i < len(x):\n",
    "  print(x[i])\n",
    "  i += 1 # equivalent to i = i + 1"
   ]
  },
  {
   "cell_type": "code",
   "execution_count": null,
   "id": "e1649e69",
   "metadata": {},
   "outputs": [],
   "source": [
    "#for \n",
    "for i in range(len(x)):\n",
    "  print(x[i])"
   ]
  },
  {
   "cell_type": "code",
   "execution_count": null,
   "id": "db41d9f9",
   "metadata": {},
   "outputs": [],
   "source": [
    "\n",
    "animals = ['dog', 'cat', 'monkey', 'bear']\n",
    "\n",
    "# Print the elements of the list\n",
    "print(\"Elements before sorting:\")\n",
    "for animal in animals:                   #if it is to iterate over a list of elements\n",
    "    print(animal)\n",
    "# Prints \"dog\", cat\", \"monkey\", \"bear\", each on its own line.\n",
    "\n"
   ]
  },
  {
   "cell_type": "code",
   "execution_count": null,
   "id": "0688d904",
   "metadata": {},
   "outputs": [],
   "source": [
    "# Sort the list in ascending order\n",
    "animals.sort()\n",
    "\n",
    "print(\"Elements after sorting:\")\n",
    "for animal in animals:\n",
    "    print(animal)\n",
    "# Prints \"bear\", cat\", \"dog\", \"monkey\", each on its own line."
   ]
  },
  {
   "cell_type": "markdown",
   "id": "af55b61d",
   "metadata": {},
   "source": [
    "#### List comprehensions \n",
    " - to transform one type of data into another"
   ]
  },
  {
   "cell_type": "code",
   "execution_count": null,
   "id": "bf07997e",
   "metadata": {},
   "outputs": [],
   "source": [
    "\n",
    "nums = [0, 1, 2, 3, 4]\n",
    "squares = []\n",
    "for x in nums:\n",
    "    squares.append(x ** 2)\n",
    "print(squares)                # Prints [0, 1, 4, 9, 16]"
   ]
  },
  {
   "cell_type": "code",
   "execution_count": null,
   "id": "e3231024",
   "metadata": {},
   "outputs": [],
   "source": [
    "# Alternate\n",
    "nums = [0, 1, 2, 3, 4]\n",
    "squares = [x ** 2 for x in nums]\n",
    "print(squares)                # Prints [0, 1, 4, 9, 16]"
   ]
  },
  {
   "cell_type": "code",
   "execution_count": null,
   "id": "a357f6c9",
   "metadata": {},
   "outputs": [],
   "source": [
    "# List comprehensions with condition\n",
    "nums = [0, 1, 2, 3, 4]\n",
    "even_squares = [x ** 2 for x in nums if x % 2 == 0]\n",
    "print(even_squares)           # Prints \"[0, 4, 16]\""
   ]
  },
  {
   "cell_type": "markdown",
   "id": "6865234b",
   "metadata": {},
   "source": [
    "### Exercise\n",
    " - Questions"
   ]
  },
  {
   "cell_type": "markdown",
   "id": "16addcb7",
   "metadata": {},
   "source": [
    "### 3.2 Dictionaries\n",
    " - A dictionary stores (key, value) pairs, similar to a Map in Java"
   ]
  },
  {
   "cell_type": "code",
   "execution_count": null,
   "id": "d32f03ff",
   "metadata": {},
   "outputs": [],
   "source": [
    "d = {'cat': 'cute', 'dog': 'furry'}  # Create a new dictionary with some data\n",
    "print (d)"
   ]
  },
  {
   "cell_type": "code",
   "execution_count": null,
   "id": "71813ed2",
   "metadata": {},
   "outputs": [],
   "source": [
    "print(d['cat'])                      # Get an entry from a dictionary; prints \"cute\"\n"
   ]
  },
  {
   "cell_type": "code",
   "execution_count": null,
   "id": "554605b7",
   "metadata": {},
   "outputs": [],
   "source": [
    "print('cat' in d)                    # Check if a dictionary has a given key; prints \"True\"\n"
   ]
  },
  {
   "cell_type": "code",
   "execution_count": null,
   "id": "df911e64",
   "metadata": {},
   "outputs": [],
   "source": [
    "d['fish'] = 'wet'                    # Set an entry in a dictionary\n",
    "print(d['fish'])                     # Prints \"wet\"\n",
    "# print(d['monkey'])                 # KeyError: 'monkey' not a key of d\n"
   ]
  },
  {
   "cell_type": "code",
   "execution_count": null,
   "id": "903bce0e",
   "metadata": {},
   "outputs": [],
   "source": [
    "print(d.get('monkey', 'N/A'))        # Get an element with a default; prints \"N/A\"\n",
    "print(d.get('fish', 'N/A'))          # Get an element with a default; prints \"wet\"\n"
   ]
  },
  {
   "cell_type": "code",
   "execution_count": null,
   "id": "6b49eece",
   "metadata": {},
   "outputs": [],
   "source": [
    "del d['fish']                        # Remove an element from a dictionary\n",
    "print(d.get('fish', 'N/A'))          # \"fish\" is no longer a key; prints \"N/A\""
   ]
  },
  {
   "cell_type": "markdown",
   "id": "f2d0fe47",
   "metadata": {},
   "source": [
    "#### Loops\n"
   ]
  },
  {
   "cell_type": "code",
   "execution_count": null,
   "id": "0cd76359",
   "metadata": {},
   "outputs": [],
   "source": [
    "d = {'person': 2, 'cat': 4, 'spider': 8}\n",
    "for animal in d:\n",
    "    legs = d[animal]\n",
    "    print('A %s has %d legs' % (animal, legs))\n",
    "# Prints \"A person has 2 legs\", \"A cat has 4 legs\", \"A spider has 8 legs\"\n"
   ]
  },
  {
   "cell_type": "code",
   "execution_count": null,
   "id": "c69444ad",
   "metadata": {},
   "outputs": [],
   "source": [
    "# Alternate using items()\n",
    "d = {'person': 2, 'cat': 4, 'spider': 8}\n",
    "for animal, legs in d.items():\n",
    "    print('A %s has %d legs' % (animal, legs))\n",
    "# Prints \"A person has 2 legs\", \"A cat has 4 legs\", \"A spider has 8 legs\""
   ]
  },
  {
   "cell_type": "code",
   "execution_count": null,
   "id": "7db5eb6f",
   "metadata": {},
   "outputs": [],
   "source": [
    "# Dictionary comprehensions\n",
    "nums = [0, 1, 2, 3, 4]\n",
    "even_num_to_square = {x: x ** 2 for x in nums if x % 2 == 0}\n",
    "print(even_num_to_square)  # Prints \"{0: 0, 2: 4, 4: 16}\""
   ]
  },
  {
   "cell_type": "markdown",
   "id": "bee6d13e",
   "metadata": {},
   "source": [
    "### 3.3 Sets\n",
    " - A set is an unordered collection of distinct elements."
   ]
  },
  {
   "cell_type": "code",
   "execution_count": null,
   "id": "11ac3724",
   "metadata": {},
   "outputs": [],
   "source": [
    "animals = {'cat', 'dog'}\n",
    "print('cat' in animals)            # Check if an element is in a set; prints \"True\"\n",
    "print('fish' in animals)           # prints \"False\"\n"
   ]
  },
  {
   "cell_type": "code",
   "execution_count": null,
   "id": "504675ab",
   "metadata": {},
   "outputs": [],
   "source": [
    "animals.add('fish')                # Add an element to a set\n",
    "print('fish' in animals)           # Prints \"True\"\n"
   ]
  },
  {
   "cell_type": "code",
   "execution_count": null,
   "id": "fc2018a5",
   "metadata": {},
   "outputs": [],
   "source": [
    "print(len(animals))                # Number of elements in a set; prints \"3\"\n"
   ]
  },
  {
   "cell_type": "code",
   "execution_count": null,
   "id": "8a8b1326",
   "metadata": {},
   "outputs": [],
   "source": [
    "animals.add('cat')                 # Adding an element that is already in the set does nothing\n",
    "print(len(animals))                # Prints \"3\"\n"
   ]
  },
  {
   "cell_type": "code",
   "execution_count": null,
   "id": "2afe3685",
   "metadata": {},
   "outputs": [],
   "source": [
    "animals.remove('cat')              # Remove an element from a set\n",
    "print(len(animals))                # Prints \"2\""
   ]
  },
  {
   "cell_type": "markdown",
   "id": "bec327b6",
   "metadata": {},
   "source": [
    "#### Loops\n"
   ]
  },
  {
   "cell_type": "code",
   "execution_count": null,
   "id": "992ba588",
   "metadata": {},
   "outputs": [],
   "source": [
    "animals = {'cat', 'dog', 'fish'}\n",
    "for idx, animal in enumerate(animals):\n",
    "    print('#%d: %s' % (idx + 1, animal))\n",
    "# Prints \"#1: fish\", \"#2: dog\", \"#3: cat\""
   ]
  },
  {
   "cell_type": "code",
   "execution_count": null,
   "id": "32768a6c",
   "metadata": {},
   "outputs": [],
   "source": [
    "# Set comprehensions\n",
    "from math import sqrt\n",
    "nums = {int(sqrt(x)) for x in range(30)}\n",
    "print(nums)  # Prints \"{0, 1, 2, 3, 4, 5}\""
   ]
  },
  {
   "cell_type": "markdown",
   "id": "ae609231",
   "metadata": {},
   "source": [
    "### 3.4 Tuples\n",
    "- A tuple is an (immutable) ordered list of values.\n",
    "- A tuple is in many ways similar to a list; one of the most important differences is that tuples can be used as keys in dictionaries and as elements of sets, while lists cannot."
   ]
  },
  {
   "cell_type": "code",
   "execution_count": null,
   "id": "588426f5",
   "metadata": {},
   "outputs": [],
   "source": [
    "d = {(x, x + 1): x for x in range(10)}  # Create a dictionary with tuple keys\n",
    "t = (5, 6)                              # Create a tuple\n"
   ]
  },
  {
   "cell_type": "code",
   "execution_count": null,
   "id": "abb87cc8",
   "metadata": {},
   "outputs": [],
   "source": [
    "print(type(t))                          # Prints \"<class 'tuple'>\"\n"
   ]
  },
  {
   "cell_type": "code",
   "execution_count": null,
   "id": "d2005949",
   "metadata": {},
   "outputs": [],
   "source": [
    "print(d[t])                             # Prints \"5\"\n"
   ]
  },
  {
   "cell_type": "code",
   "execution_count": null,
   "id": "66d7bdf5",
   "metadata": {},
   "outputs": [],
   "source": [
    "print(d[(1, 2)])                        # Prints \"1\"\n"
   ]
  },
  {
   "cell_type": "code",
   "execution_count": null,
   "id": "4eac3de5",
   "metadata": {},
   "outputs": [],
   "source": [
    "print (d)"
   ]
  },
  {
   "cell_type": "markdown",
   "id": "aa322007",
   "metadata": {},
   "source": [
    "### 4. Functions\n",
    "- Python functions are defined using the def keyword."
   ]
  },
  {
   "cell_type": "code",
   "execution_count": null,
   "id": "50062e8a",
   "metadata": {},
   "outputs": [],
   "source": [
    "def sign(x):\n",
    "    if x > 0:\n",
    "        return 'positive'\n",
    "    elif x < 0:\n",
    "        return 'negative'\n",
    "    else:\n",
    "        return 'zero'\n"
   ]
  },
  {
   "cell_type": "code",
   "execution_count": null,
   "id": "90bba784",
   "metadata": {},
   "outputs": [],
   "source": [
    "\n",
    "for x in [-1, 0, 1]:\n",
    "    print(sign(x))\n",
    "# Prints \"negative\", \"zero\", \"positive\""
   ]
  },
  {
   "cell_type": "code",
   "execution_count": null,
   "id": "a025998f",
   "metadata": {},
   "outputs": [],
   "source": [
    "# define functions with optional keyword arguments\n",
    "def hello_name(name, loud=False):\n",
    "    if loud:\n",
    "        print('HELLO, %s!' % name.upper())\n",
    "    else:\n",
    "        print('Hello, %s' % name)\n",
    "\n",
    "hello_name('Ian')                                    # Prints \"Hello, Ian\"\n",
    "hello_name('Goodfellow', loud=True)                  # Prints \"HELLO, GOODFELLOW!\""
   ]
  },
  {
   "cell_type": "markdown",
   "id": "fb440b1f",
   "metadata": {},
   "source": [
    "**Exercise** Using a conditional, write the [relu](https://en.wikipedia.org/wiki/Rectifier_(neural_networks)) function defined as follows\n",
    "\n",
    "$\\text{relu}(x) = \\left\\{\n",
    "   \\begin{array}{rl}\n",
    "     x, & \\text{if }  x \\ge 0 \\\\\n",
    "     0, & \\text{otherwise }.\n",
    "   \\end{array}\\right.$"
   ]
  },
  {
   "cell_type": "code",
   "execution_count": null,
   "id": "eb8ac2f1",
   "metadata": {},
   "outputs": [],
   "source": [
    "def relu(x):\n",
    "  # Write your logic here\n",
    "  return\n",
    "\n",
    "relu(-3)"
   ]
  },
  {
   "cell_type": "markdown",
   "id": "abc0aec4",
   "metadata": {},
   "source": [
    "## Reference on Python Basics \n",
    "- For more details https://docs.python.org/3.10/tutorial/index.html"
   ]
  }
 ],
 "metadata": {
  "kernelspec": {
   "display_name": "Python 3 (ipykernel)",
   "language": "python",
   "name": "python3"
  },
  "language_info": {
   "codemirror_mode": {
    "name": "ipython",
    "version": 3
   },
   "file_extension": ".py",
   "mimetype": "text/x-python",
   "name": "python",
   "nbconvert_exporter": "python",
   "pygments_lexer": "ipython3",
   "version": "3.9.7"
  }
 },
 "nbformat": 4,
 "nbformat_minor": 5
}
